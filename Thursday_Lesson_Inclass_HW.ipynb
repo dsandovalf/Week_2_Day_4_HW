{
 "cells": [
  {
   "cell_type": "markdown",
   "metadata": {},
   "source": [
    "# Object-Oriented-Programming (OOP)"
   ]
  },
  {
   "cell_type": "markdown",
   "metadata": {},
   "source": [
    "## Tasks Today:\n",
    "\n",
    "   \n",
    "\n",
    "1) <b>Creating a Class (Initializing/Declaring)</b> <br>\n",
    "2) <b>Using a Class (Instantiating)</b> <br>\n",
    " &nbsp;&nbsp;&nbsp;&nbsp; a) Creating One Instance <br>\n",
    " &nbsp;&nbsp;&nbsp;&nbsp; b) Creating Multiple Instances <br>\n",
    " &nbsp;&nbsp;&nbsp;&nbsp; c) In-Class Exercise #1 - Create a Class 'Car' and instantiate three different makes of cars <br>\n",
    "3) <b>The \\__init\\__() Method</b> <br>\n",
    " &nbsp;&nbsp;&nbsp;&nbsp; a) The 'self' Attribute <br>\n",
    "4) <b>Class Attributes</b> <br>\n",
    " &nbsp;&nbsp;&nbsp;&nbsp; a) Initializing Attributes <br>\n",
    " &nbsp;&nbsp;&nbsp;&nbsp; b) Setting an Attribute Outside of the \\__init\\__() Method <br>\n",
    " &nbsp;&nbsp;&nbsp;&nbsp; c) Setting Defaults for Attributes <br>\n",
    " &nbsp;&nbsp;&nbsp;&nbsp; d) Accessing Class Attributes <br>\n",
    " &nbsp;&nbsp;&nbsp;&nbsp; e) Changing Class Attributes <br>\n",
    " &nbsp;&nbsp;&nbsp;&nbsp; f) In-Class Exercise #2 - Add a color and wheels attribute to your 'Car' class <br>\n",
    "5) <b>Class Methods</b> <br>\n",
    " &nbsp;&nbsp;&nbsp;&nbsp; a) Creating <br>\n",
    " &nbsp;&nbsp;&nbsp;&nbsp; b) Calling <br>\n",
    " &nbsp;&nbsp;&nbsp;&nbsp; c) Modifying an Attribute's Value Through a Method <br>\n",
    " &nbsp;&nbsp;&nbsp;&nbsp; d) Incrementing an Attribute's Value Through a Method <br>\n",
    " &nbsp;&nbsp;&nbsp;&nbsp; e) In-Class Exercise #3 - Add a method that prints the cars color and wheel number, then call them <br>\n",
    "6) <b>Inheritance</b> <br>\n",
    " &nbsp;&nbsp;&nbsp;&nbsp; a) Syntax for Inheriting from a Parent Class <br>\n",
    " &nbsp;&nbsp;&nbsp;&nbsp; b) The \\__init\\__() Method for a Child Class (super()) <br>\n",
    " &nbsp;&nbsp;&nbsp;&nbsp; c) Defining Attributes and Methods for the Child Class <br>\n",
    " &nbsp;&nbsp;&nbsp;&nbsp; d) Method Overriding <br>\n",
    " &nbsp;&nbsp;&nbsp;&nbsp; e) In-Class Exercise #4 - Create a class 'Ford' that inherits from 'Car' class and initialize it as a Blue Ford Explorer with 4 wheels using the super() method <br>\n",
    "7) <b>Classes as Attributes</b> <br>\n",
    "8) <b>Exercises</b> <br>\n",
    " &nbsp;&nbsp;&nbsp;&nbsp; a) Exercise #1 - Turn the shopping cart program from yesterday into an object-oriented program <br>"
   ]
  },
  {
   "cell_type": "code",
   "execution_count": null,
   "metadata": {},
   "outputs": [],
   "source": [
    "from IPython.display import clear_output\n",
    "\n",
    "# Create a Global list to hold my Cart Items\n",
    "cart = []\n",
    "\n",
    "def show_cart():\n",
    "    clear_output()\n",
    "    print(\"Your Cart Contains:\")\n",
    "    for item in cart:\n",
    "        print(item)\n",
    "    if not cart:\n",
    "        print(\"Cart is empty\")\n",
    "\n",
    "def add_item(item):\n",
    "    clear_output()\n",
    "    cart.append(item)\n",
    "    print(f\"{item} was added to your cart\")\n",
    "\n",
    "def remove_item(item):\n",
    "    clear_output()\n",
    "    cart.remove(item)\n",
    "    print(f\"{item} was removed from your cart\")\n",
    "\n",
    "def clear_cart():\n",
    "    clear_output()\n",
    "    cart.clear()\n",
    "    print(\"Your cart is empty\")\n",
    "\n",
    "# Driver Code\n",
    "def shopping_cart():\n",
    "    while True:\n",
    "        response = input(\"What would you like to do? you can: quit/ add/ remove/ show or clear \\n Choose only one \\n\")\n",
    "        if response.lower() == \"quit\":\n",
    "            show_cart()\n",
    "            print(\"Thanks for shopping\")\n",
    "            break\n",
    "        elif response.lower() == 'add':\n",
    "            item = input(\"What would you like to add?\")\n",
    "            add_item(item)\n",
    "        elif response.lower() == 'remove':\n",
    "            item = input(\"What would you like to remove?\")\n",
    "            remove_item(item)\n",
    "        elif response.lower() == 'show':\n",
    "            show_cart()\n",
    "        elif response.lower() == 'clear':\n",
    "            clear_cart()\n",
    "        else:\n",
    "            print(\"Invalid Option.  Try again!\")\n",
    "            \n",
    "\n",
    "shopping_cart()"
   ]
  },
  {
   "cell_type": "code",
   "execution_count": null,
   "metadata": {},
   "outputs": [],
   "source": [
    "\"hey\".lower()"
   ]
  },
  {
   "cell_type": "markdown",
   "metadata": {},
   "source": [
    "## Creating a Class (Initializing/Declaring)\n",
    "<p>When creating a class, function, or even a variable you are initializing that object. Initializing and Declaring occur at the same time in Python, whereas in lower level languages you have to declare an object before initializing it. This is the first step in the process of using a class.</p>"
   ]
  },
  {
   "cell_type": "code",
   "execution_count": null,
   "metadata": {},
   "outputs": [],
   "source": [
    "class Car(): # PascalCase first letter ofeveryword is capital and no spaces\n",
    "    wheels = 4\n",
    "    color = \"blue\""
   ]
  },
  {
   "cell_type": "code",
   "execution_count": null,
   "metadata": {},
   "outputs": [],
   "source": [
    "import  math\n",
    "math.pi"
   ]
  },
  {
   "cell_type": "markdown",
   "metadata": {},
   "source": [
    "## Using a Class (Instantiating)\n",
    "<p>The process of creating a class is called <i>Instantiating</i>. Each time you create a variable of that type of class, it is referred to as an <i>Instance</i> of that class. This is the second step in the process of using a class.</p>"
   ]
  },
  {
   "cell_type": "markdown",
   "metadata": {},
   "source": [
    "##### Creating One Instance"
   ]
  },
  {
   "cell_type": "code",
   "execution_count": null,
   "metadata": {},
   "outputs": [],
   "source": [
    "ford = Car()"
   ]
  },
  {
   "cell_type": "markdown",
   "metadata": {},
   "source": [
    "##### Creating Multiple Instances"
   ]
  },
  {
   "cell_type": "code",
   "execution_count": null,
   "metadata": {},
   "outputs": [],
   "source": [
    "chevy = Car()\n",
    "honda = Car()\n",
    "porsche = Car()\n",
    "\n",
    "print(ford.wheels)\n",
    "print(chevy.wheels)\n",
    "print(ford.color)\n",
    "print(honda.color)\n"
   ]
  },
  {
   "cell_type": "markdown",
   "metadata": {},
   "source": [
    "##### In-Class Exercise #1 - Create a Class 'Car' and Instantiate three different makes of cars"
   ]
  },
  {
   "cell_type": "code",
   "execution_count": null,
   "metadata": {},
   "outputs": [],
   "source": [
    "class Car2():\n",
    "    doors = 4\n",
    "    color = \"red\"\n",
    "    wheels = 4\n",
    "    has_sun_roof = True\n",
    "\n",
    "maz = Car2()\n",
    "bently = Car2()\n",
    "fer = Car2()\n",
    "\n",
    "fer.has_sun_roof"
   ]
  },
  {
   "cell_type": "markdown",
   "metadata": {},
   "source": [
    "## The \\__init\\__() Method <br>\n",
    "<p>This method is used in almost every created class, and called only once upon the creation of the class instance. This method will initialize all variables needed for the object.</p>"
   ]
  },
  {
   "cell_type": "code",
   "execution_count": null,
   "metadata": {},
   "outputs": [],
   "source": [
    "class Car():\n",
    "    engine = \"4.7L\" # Class attribute\n",
    "    \n",
    "    #Constructor\n",
    "    def __init__(self, num_of_wheels):\n",
    "        self.wheels = num_of_wheels # instance varible\n",
    "#self refers to the actual instance\n",
    "\n",
    "ford = Car(4)\n",
    "print(ford.engine)\n",
    "print(Car.engine)\n",
    "print(ford.wheels) # has access to the Class and Instance attributes/methods\n",
    "# print(Car.wheels) # class Car only has access to the class attributes/methods\n",
    "print(ford.x)"
   ]
  },
  {
   "cell_type": "markdown",
   "metadata": {},
   "source": [
    "##### The 'self' Attribute <br>\n",
    "<p>This attribute is required to keep track of specific instance's attributes. Without the self attribute, the program would not know how to reference or keep track of an instance's attributes.</p>"
   ]
  },
  {
   "cell_type": "code",
   "execution_count": null,
   "metadata": {},
   "outputs": [],
   "source": [
    "# see above"
   ]
  },
  {
   "cell_type": "markdown",
   "metadata": {},
   "source": [
    "## Class Attributes <br>\n",
    "<p>While variables are inside of a class, they are referred to as attributes and not variables. When someone says 'attribute' you know they're speaking about a class. Attributes can be initialized through the init method, or outside of it.</p>"
   ]
  },
  {
   "cell_type": "markdown",
   "metadata": {},
   "source": [
    "##### Initializing Attributes"
   ]
  },
  {
   "cell_type": "code",
   "execution_count": null,
   "metadata": {},
   "outputs": [],
   "source": [
    "# see above"
   ]
  },
  {
   "cell_type": "markdown",
   "metadata": {},
   "source": [
    "##### Accessing Class Attributes"
   ]
  },
  {
   "cell_type": "code",
   "execution_count": null,
   "metadata": {
    "scrolled": true
   },
   "outputs": [],
   "source": [
    "# See Above"
   ]
  },
  {
   "cell_type": "markdown",
   "metadata": {},
   "source": [
    "##### Setting Defaults for Attributes"
   ]
  },
  {
   "cell_type": "code",
   "execution_count": null,
   "metadata": {},
   "outputs": [],
   "source": [
    "class Car():\n",
    "    engine =\"4.7L\"\n",
    "    def __init__(self, wheels, color=\"Blue\"):\n",
    "        self.wheels = wheels\n",
    "        self.color = color\n",
    "        \n",
    "honda = Car(4)\n",
    "jeep = Car(8, \"Green\")\n",
    "\n",
    "print(f\"Honda had {honda.wheels} wheels and is {honda.color}\")\n",
    "print(f\"jeep had {jeep.wheels} wheels and is {jeep.color}\")"
   ]
  },
  {
   "cell_type": "markdown",
   "metadata": {},
   "source": [
    "##### Changing Class Attributes <br>\n",
    "<p>Keep in mind there are global class attributes and then there are attributes only available to each class instance which won't effect other classes.</p>"
   ]
  },
  {
   "cell_type": "code",
   "execution_count": null,
   "metadata": {},
   "outputs": [],
   "source": [
    "Car.engine"
   ]
  },
  {
   "cell_type": "code",
   "execution_count": null,
   "metadata": {},
   "outputs": [],
   "source": [
    "Car.color"
   ]
  },
  {
   "cell_type": "markdown",
   "metadata": {},
   "source": [
    "##### In-Class Exercise #2 - Add a doors and seats attribute to your 'Car' class then print out two different instances with different doors and seats"
   ]
  },
  {
   "cell_type": "code",
   "execution_count": null,
   "metadata": {},
   "outputs": [],
   "source": [
    "class Car():\n",
    "    def __init__(self, d, s):\n",
    "        self.doors = d\n",
    "        self.seats = s\n",
    "honda = Car(2,4)\n",
    "jeep = Car(0,5)\n",
    "\n",
    "print(f'honda seats {honda.seats} people and has {honda.doors} doors')\n",
    "print(f'jeep seats {jeep.seats} people and has {jeep.doors} doors')\n"
   ]
  },
  {
   "cell_type": "markdown",
   "metadata": {},
   "source": [
    "## Instance Methods <br>\n",
    "<p>While inside of a class, functions are referred to as 'methods'. If you hear someone mention methods, they're speaking about classes. Methods are essentially functions, but only callable on the instances of a class.</p>"
   ]
  },
  {
   "cell_type": "markdown",
   "metadata": {},
   "source": [
    "##### Creating"
   ]
  },
  {
   "cell_type": "code",
   "execution_count": null,
   "metadata": {},
   "outputs": [],
   "source": [
    "class Car():\n",
    "    def __init__(self, wheels, color, seats):\n",
    "        self.wheels = wheels\n",
    "        self.color = color\n",
    "        self.seats = seats\n",
    "    \n",
    "    def drive(self):\n",
    "        print(\"VRRROOOOOOOOOOOMM!!!!!!!\")\n",
    "    \n",
    "    def set_color(self, new_color):\n",
    "        self.color = new_color\n",
    "        \n",
    "    def describe(self):\n",
    "        print(f\"the car is {self.color} with {self.seats} seats and {self.wheels} wheels\")\n",
    "        \n",
    "    def add_seats(self):\n",
    "        self.seats += 1\n",
    "\n",
    "    "
   ]
  },
  {
   "cell_type": "markdown",
   "metadata": {},
   "source": [
    "##### Calling"
   ]
  },
  {
   "cell_type": "code",
   "execution_count": null,
   "metadata": {},
   "outputs": [],
   "source": [
    "chevy = Car(4, \"red\", 8)\n",
    "chevy.drive()\n",
    "chevy.describe()\n",
    "chevy.set_color(\"green\")\n",
    "chevy.describe()\n",
    "chevy.add_seats()\n",
    "chevy.describe()\n",
    "\n",
    "Car.describe(chevy) # passing in the instance\n",
    "Car.describe() #Error Describe does not work on a class it is a Instance Method\n"
   ]
  },
  {
   "cell_type": "code",
   "execution_count": null,
   "metadata": {},
   "outputs": [],
   "source": [
    "honda = Car(2,\"blue\",2)\n",
    "honda.drive()\n",
    "honda.describe()"
   ]
  },
  {
   "cell_type": "markdown",
   "metadata": {},
   "source": [
    "##### Modifying an Attribute's Value Through a Method"
   ]
  },
  {
   "cell_type": "code",
   "execution_count": null,
   "metadata": {},
   "outputs": [],
   "source": []
  },
  {
   "cell_type": "markdown",
   "metadata": {},
   "source": [
    "##### Incrementing an Attribute's Value Through a Method"
   ]
  },
  {
   "cell_type": "code",
   "execution_count": null,
   "metadata": {},
   "outputs": [],
   "source": []
  },
  {
   "cell_type": "markdown",
   "metadata": {},
   "source": [
    "##### In-Class Exercise #3 - Add a method that takes in three parameters of year, doors and seats and prints out a formatted print statement with make, model, year, seats, and doors"
   ]
  },
  {
   "cell_type": "code",
   "execution_count": null,
   "metadata": {},
   "outputs": [],
   "source": [
    "# Create class with 2 paramters inside of the __init__ which are make and model\n",
    "\n",
    "# Inside of the Car class create a method that has 4 parameter in total (self,year,door,seats)\n",
    "\n",
    "# Output: This car is from 2019 and is a Ford Expolorer and has 4 doors and 5 seats\n",
    "\n",
    "class Car():\n",
    "    def __init__(self, make, model):\n",
    "        self.make = make\n",
    "        self.model = model\n",
    "        \n",
    "    def add_details(self, year, doors, s):\n",
    "        self.year = year\n",
    "        self.doors = doors\n",
    "        self.seats = s\n",
    "        \n",
    "    def describe(self):\n",
    "        print(f\"this car is a {self.year} {self.make} {self.model} and has {self.doors} doors \\\n",
    "and {self.seats} seats\")\n",
    "        \n",
    "    def which_is_better(self, car):\n",
    "        if self.doors > car.doors:\n",
    "            print(f\"{self.make} {self.model} is BETTER than {car.make} {car.model}\")\n",
    "        else:\n",
    "            print(f\"{self.make} {self.model} is WORSE than {car.make} {car.model}\")\n",
    "    \n",
    "    \n",
    "my_car = Car(\"Toyota\", \"Tundra\")\n",
    "my_car.add_details(2000, 4, 6)\n",
    "my_car.describe()\n",
    "\n",
    "\n",
    "your_car = Car(\"Ford\",\"Explorer\")\n",
    "your_car.add_details(2018,6,8)\n",
    "your_car.describe()\n",
    "\n",
    "\n",
    "my_car.which_is_better(your_car)\n",
    "your_car.which_is_better(my_car)"
   ]
  },
  {
   "cell_type": "code",
   "execution_count": null,
   "metadata": {},
   "outputs": [],
   "source": [
    "\n",
    "class Car():\n",
    "    def __init__(self, make, model):\n",
    "        self.make = make\n",
    "        self.model = model\n",
    "        \n",
    "    def add_details(self, year, doors, s):\n",
    "        self.year = year\n",
    "        self.doors = doors\n",
    "        self.seats = s\n",
    "        \n",
    "    def describe(self):\n",
    "        print(f\"this car is a {self.year} {self.make} {self.model} and has {self.doors} doors \\\n",
    "and {self.seats} seats\")\n",
    "    \n",
    "    @classmethod\n",
    "    def which_is_better(cls, car1, car2): # Class Method works with both instance and class\n",
    "        if car1.doors > car2.doors:\n",
    "            print(f\"{car1.make} {car1.model} is BETTER than {car2.make} {car2.model}\")\n",
    "        else:\n",
    "            print(f\"{car1.make} {car1.model} is WORSE than {car2.make} {car2.model}\")\n",
    "    \n",
    "    \n",
    "my_car = Car(\"Toyota\", \"Tundra\")\n",
    "my_car.add_details(2000, 4, 6)\n",
    "my_car.describe()\n",
    "\n",
    "\n",
    "your_car = Car(\"Ford\",\"Explorer\")\n",
    "your_car.add_details(2018,6,8)\n",
    "your_car.describe()\n",
    "\n",
    "Car.which_is_better(your_car,my_car)\n",
    "Car.which_is_better(my_car,your_car)\n",
    "\n",
    "my_car.which_is_better(my_car,your_car)\n"
   ]
  },
  {
   "cell_type": "markdown",
   "metadata": {},
   "source": [
    "## Inheritance <br>\n",
    "<p>You can create a child-parent relationship between two classes by using inheritance. What this allows you to do is have overriding methods, but also inherit traits from the parent class. Think of it as an actual parent and child, the child will inherit the parent's genes, as will the classes in OOP</p>"
   ]
  },
  {
   "cell_type": "markdown",
   "metadata": {},
   "source": [
    "##### Syntax for Inheriting from a Parent Class"
   ]
  },
  {
   "cell_type": "code",
   "execution_count": null,
   "metadata": {},
   "outputs": [],
   "source": [
    "# Parent Class\n",
    "class Animal():\n",
    "    acc = 9.8\n",
    "    def __init__(self, name, species, legs=4):\n",
    "        self.name = name\n",
    "        self.species = species\n",
    "        self.legs = legs\n",
    "    \n",
    "    def speak(self):\n",
    "        print(\"Some Generic Animal Sound\")\n",
    "        \n",
    "    def run(self):\n",
    "        print(\"galloping\")\n",
    "# Child Class\n",
    "class Dog(Animal):\n",
    "    speed = 15\n",
    "    \n",
    "    def __init__(self, is_house_trained, name, species, legs=4):\n",
    "        super().__init__(name, species, legs)\n",
    "        self.is_house_trained = is_house_trained\n",
    "    \n",
    "    def describe(self):\n",
    "        print(f\"The dog has {self.speed} mph and {self.acc} m/s^2\")\n",
    "    \n",
    "    # Over Ride the Parent Method\n",
    "    def speak(self):\n",
    "        print(\"BARRRKK!!!!\")\n",
    "    \n",
    "generic_animal = Animal(\"generic\", \"animal\")\n",
    "generic_animal.legs\n",
    "\n",
    "lassie = Dog(True, \"Lassie\", \"Dog\")\n",
    "lassie.describe()\n",
    "lassie.speak()\n",
    "lassie.run()\n",
    "lassie.species\n",
    "lassie.is_house_trained\n",
    "\n"
   ]
  },
  {
   "cell_type": "code",
   "execution_count": null,
   "metadata": {},
   "outputs": [],
   "source": [
    "isinstance(lassie, Dog)\n",
    "isinstance(lassie, Animal)"
   ]
  },
  {
   "cell_type": "markdown",
   "metadata": {},
   "source": [
    "\n",
    "##### The \\__init\\__() Method for a Child Class - super()"
   ]
  },
  {
   "cell_type": "code",
   "execution_count": null,
   "metadata": {
    "scrolled": true
   },
   "outputs": [],
   "source": [
    "# Grandchild of Animal and Child of Dog\n",
    "\n",
    "class Mutt(Dog):\n",
    "    def __init__(self,second_species, is_house_trained, name, species, legs=4):\n",
    "        super().__init__(is_house_trained, name, species, legs)\n",
    "        self.second_species = second_species\n",
    "        \n",
    "    def describe(self):\n",
    "        print(f\"the mutt is a mix of {self.species} and {self.second_species}\")\n",
    "\n",
    "nala = Mutt(\"pointer\", True, \"Nala\", \"Black Lab\")\n",
    "nala.describe()"
   ]
  },
  {
   "cell_type": "markdown",
   "metadata": {},
   "source": [
    "##### Defining Attributes and Methods for the Child Class"
   ]
  },
  {
   "cell_type": "code",
   "execution_count": null,
   "metadata": {},
   "outputs": [],
   "source": [
    "# See Above"
   ]
  },
  {
   "cell_type": "markdown",
   "metadata": {},
   "source": [
    "##### Method Overriding"
   ]
  },
  {
   "cell_type": "code",
   "execution_count": null,
   "metadata": {},
   "outputs": [],
   "source": [
    "# See Above"
   ]
  },
  {
   "cell_type": "markdown",
   "metadata": {},
   "source": [
    "## Classes as Attributes <br>\n",
    "<p>Classes can also be used as attributes within another class. This is useful in situations where you need to keep variables locally stored, instead of globally stored.</p>"
   ]
  },
  {
   "cell_type": "code",
   "execution_count": null,
   "metadata": {},
   "outputs": [],
   "source": [
    "class ElectricCar():\n",
    "    def __init__(self, year, make, a_battery):\n",
    "        self.year = year\n",
    "        self.make = make\n",
    "        self.battery = a_battery\n",
    "        \n",
    "    def describe(self):\n",
    "        print(self.year, self.make, self.battery.volts, self.battery.cells)\n",
    "        \n",
    "class Battery():\n",
    "    volts = 7.8\n",
    "    def __init__(self, cells):\n",
    "        self.cells = cells\n",
    "        self.time = 6\n",
    "        self.var = \"my battery\"\n",
    "    \n",
    "    def recharge(self):\n",
    "        print(\"recharging\")\n",
    "        \n",
    "my_battery = Battery(20)        \n",
    "my_battery.recharge()\n",
    "\n",
    "my_car = ElectricCar(2020, \"Telsa\", my_battery)\n",
    "\n",
    "my_car.describe()\n",
    "print(type(my_car))\n",
    "print(type(my_car.battery))\n",
    "my_car.battery.recharge()"
   ]
  },
  {
   "cell_type": "code",
   "execution_count": null,
   "metadata": {},
   "outputs": [],
   "source": [
    "class UI():\n",
    "    def __init__(self, person):\n",
    "        self.person = person\n",
    "    \n",
    "    def run_program(self):\n",
    "        while True:\n",
    "            response = input(\"What do you want to do? Run or Rant? Quit to quit\")\n",
    "\n",
    "            if response.lower()== \"quit\":\n",
    "                break\n",
    "    \n",
    "            elif response.lower() == \"run\":\n",
    "                self.person.run()\n",
    "                \n",
    "            elif response.lower() == \"rant\":\n",
    "                self.person.rant()\n",
    "    \n",
    "\n",
    "    \n",
    "    \n",
    "class Person():\n",
    "    def __init__(self, name, age):\n",
    "        self.name = name\n",
    "        self.age = age\n",
    "    \n",
    "    def run(self):\n",
    "        print(f\"{self.name} says Huff and Puff boy I am out of shape!\")\n",
    "        \n",
    "    def rant(self):\n",
    "        print(f\"{self.name} says Epistien didn't Kill himself!\")\n",
    "        \n",
    "tate = Person(\"Tate\", 5)\n",
    "ui = UI(tate)\n",
    "ui.run_program()"
   ]
  },
  {
   "cell_type": "code",
   "execution_count": null,
   "metadata": {},
   "outputs": [],
   "source": [
    "\n",
    "\n",
    "    # NOT A GREAT WAY\n",
    "\n",
    "    \n",
    "    \n",
    "class Person():\n",
    "    def __init__(self, name, age):\n",
    "        self.name = name\n",
    "        self.age = age\n",
    "    \n",
    "    def run(self):\n",
    "        print(f\"{self.name} says Huff and Puff boy I am out of shape!\")\n",
    "        \n",
    "    def rant(self):\n",
    "        print(f\"{self.name} says Epistien didn't Kill himself!\")\n",
    "        \n",
    "tate = Person(\"Tate\", 5)\n",
    "\n",
    "while True:\n",
    "    response = input(\"What do you want to do? Run or Rant? Quit to quit\")\n",
    "\n",
    "    if response.lower()== \"quit\":\n",
    "        break\n",
    "\n",
    "    elif response.lower() == \"run\":\n",
    "        tate.run()\n",
    "\n",
    "    elif response.lower() == \"rant\":\n",
    "        tate.rant()"
   ]
  },
  {
   "cell_type": "code",
   "execution_count": null,
   "metadata": {},
   "outputs": [],
   "source": []
  },
  {
   "cell_type": "code",
   "execution_count": null,
   "metadata": {},
   "outputs": [],
   "source": []
  },
  {
   "cell_type": "code",
   "execution_count": null,
   "metadata": {},
   "outputs": [],
   "source": []
  },
  {
   "cell_type": "markdown",
   "metadata": {},
   "source": [
    "# Exercises"
   ]
  },
  {
   "cell_type": "markdown",
   "metadata": {},
   "source": [
    "### Exercise 1 - Write a Python class which has two methods get_String and print_String. get_String accept a string from the user and print_String print the string in upper case"
   ]
  },
  {
   "cell_type": "code",
   "execution_count": 4,
   "metadata": {
    "scrolled": true
   },
   "outputs": [
    {
     "name": "stdout",
     "output_type": "stream",
     "text": [
      "hello\n",
      "HELLO\n"
     ]
    }
   ],
   "source": [
    "class Uppercase():\n",
    "    def __init__(self, string):\n",
    "        self.string = string\n",
    "        \n",
    "    def get_String(self):\n",
    "        self.string = input()\n",
    "        \n",
    "    def print_String(self):\n",
    "        print(self.string.upper())\n",
    "\n",
    "string = Uppercase(\"\")\n",
    "string.get_String()\n",
    "string.print_String()"
   ]
  },
  {
   "cell_type": "markdown",
   "metadata": {},
   "source": [
    "### Exercise 2 - Turn the shopping cart program from yesterday into an object-oriented program"
   ]
  },
  {
   "cell_type": "code",
   "execution_count": 3,
   "metadata": {},
   "outputs": [
    {
     "name": "stdout",
     "output_type": "stream",
     "text": [
      "Would you like to add, remove, or show an item in your cart?\n",
      "To quit, type quit.\n",
      "> add\n",
      "What item would you like to add?\n",
      "> milk\n",
      "How may of that item would you like to add?\n",
      "> 1\n",
      "1 milk was added to the cart.\n",
      "Would you like to add, remove, or show an item in your cart?\n",
      "To quit, type quit.\n",
      "> add\n",
      "What item would you like to add?\n",
      "> eggs\n",
      "How may of that item would you like to add?\n",
      "> 2\n",
      "2 eggs was added to the cart.\n",
      "Would you like to add, remove, or show an item in your cart?\n",
      "To quit, type quit.\n",
      "> add\n",
      "What item would you like to add?\n",
      "> bread\n",
      "How may of that item would you like to add?\n",
      "> 3\n",
      "3 bread was added to the cart.\n",
      "Would you like to add, remove, or show an item in your cart?\n",
      "To quit, type quit.\n",
      "> show\n",
      "Would you like to see if an item is in your cart?\n",
      "Type the item you want to check.\n",
      ">milk\n",
      "milk quantity: 1 is in the cart.\n",
      "Would you like to add, remove, or show an item in your cart?\n",
      "To quit, type quit.\n",
      "> show\n",
      "Would you like to see if an item is in your cart?\n",
      "Type the item you want to check.\n",
      ">eggs\n",
      "eggs quantity: 2 is in the cart.\n",
      "Would you like to add, remove, or show an item in your cart?\n",
      "To quit, type quit.\n",
      "> remove\n",
      "What item would you like to remove?\n",
      "> eggs\n",
      "eggs was removed from the cart.\n",
      "Would you like to add, remove, or show an item in your cart?\n",
      "To quit, type quit.\n",
      "> show\n",
      "Would you like to see if an item is in your cart?\n",
      "Type the item you want to check.\n",
      ">eggs\n",
      "eggs is not in the cart.\n",
      "Would you like to add, remove, or show an item in your cart?\n",
      "To quit, type quit.\n",
      "> quit\n"
     ]
    }
   ],
   "source": [
    "# Create a class called cart that retains items and has methods to add, remove, and show\n",
    "\n",
    "class Cart():\n",
    "    shopping_cart = {}\n",
    "    \n",
    "    def __init__(self, customer_name):\n",
    "        self.customer_name = customer_name\n",
    "\n",
    "    def add_item(self, item, quantity):\n",
    "        if not item in self.shopping_cart:\n",
    "            self.shopping_cart[item] = quantity\n",
    "            print((f\"{self.shopping_cart[item]} {item} was added to the cart.\"))\n",
    "        elif item in self.shopping_cart:\n",
    "            self.shopping_cart[item] += quantity\n",
    "\n",
    "    def remove_item(self, item):\n",
    "        if item in self.shopping_cart:\n",
    "            del self.shopping_cart[item]\n",
    "            print(f\"{item} was removed from the cart.\")\n",
    "\n",
    "    def show_item(self, item):\n",
    "        if item in self.shopping_cart:\n",
    "            print(f\"{item} quantity: {self.shopping_cart[item]} is in the cart.\")\n",
    "        else:\n",
    "            print (f\"{item} is not in the cart.\")\n",
    "            \n",
    "\n",
    "def main():\n",
    "    my_cart = Cart(\"Customer Name\")\n",
    "\n",
    "    while True:\n",
    "        choice = input(\"Would you like to add, remove, or show an item in your cart?\\nTo quit, type quit.\\n> \")\n",
    "\n",
    "        if choice == \"quit\":\n",
    "            break\n",
    "        elif choice == \"add\":\n",
    "            item = input(\"What item would you like to add?\\n> \")\n",
    "            quantity = input(\"How may of that item would you like to add?\\n> \" )\n",
    "            my_cart.add_item(item, quantity)\n",
    "        elif choice == \"remove\":\n",
    "            item = input(\"What item would you like to remove?\\n> \")\n",
    "            my_cart.remove_item(item)\n",
    "        elif choice == \"show\":\n",
    "            item = input(\"Would you like to see if an item is in your cart?\\nType the item you want to check.\\n>\")\n",
    "            my_cart.show_item(item)\n",
    "\n",
    "main()"
   ]
  }
 ],
 "metadata": {
  "kernelspec": {
   "display_name": "Python 3",
   "language": "python",
   "name": "python3"
  },
  "language_info": {
   "codemirror_mode": {
    "name": "ipython",
    "version": 3
   },
   "file_extension": ".py",
   "mimetype": "text/x-python",
   "name": "python",
   "nbconvert_exporter": "python",
   "pygments_lexer": "ipython3",
   "version": "3.8.8"
  }
 },
 "nbformat": 4,
 "nbformat_minor": 2
}
